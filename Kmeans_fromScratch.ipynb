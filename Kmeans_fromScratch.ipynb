{
 "cells": [
  {
   "cell_type": "code",
   "execution_count": 1,
   "metadata": {},
   "outputs": [
    {
     "data": {
      "text/plain": [
       "<Figure size 2000x1500 with 0 Axes>"
      ]
     },
     "execution_count": 1,
     "metadata": {},
     "output_type": "execute_result"
    }
   ],
   "source": [
    "import pandas as pd \n",
    "import matplotlib.pyplot as plt\n",
    "import numpy as np\n",
    "import random\n",
    "plt.figure(figsize=(20,15))"
   ]
  },
  {
   "cell_type": "code",
   "execution_count": 235,
   "metadata": {},
   "outputs": [
    {
     "data": {
      "text/plain": [
       "array([[ 1.14 , -0.945],\n",
       "       [ 2.105, -0.437],\n",
       "       [ 0.417, -1.295],\n",
       "       ...,\n",
       "       [-0.879,  0.978],\n",
       "       [-0.619,  1.004],\n",
       "       [-1.168,  0.363]])"
      ]
     },
     "execution_count": 235,
     "metadata": {},
     "output_type": "execute_result"
    }
   ],
   "source": [
    "data = pd.read_csv('dataset_1.csv')\n",
    "data= data.drop(columns='Unnamed: 0')\n",
    "from sklearn.preprocessing import StandardScaler\n",
    "scaler = StandardScaler()\n",
    "data=scaler.fit_transform(data)\n",
    "data= np.round(data,3)\n",
    "# data.info()\n",
    "data"
   ]
  },
  {
   "cell_type": "code",
   "execution_count": 3,
   "metadata": {},
   "outputs": [
    {
     "data": {
      "text/plain": [
       "<matplotlib.collections.PathCollection at 0x21682e75d88>"
      ]
     },
     "execution_count": 3,
     "metadata": {},
     "output_type": "execute_result"
    },
    {
     "data": {
      "image/png": "[encoded data removed]",
      "text/plain": [
       "<Figure size 432x288 with 1 Axes>"
      ]
     },
     "metadata": {
      "needs_background": "light"
     },
     "output_type": "display_data"
    }
   ],
   "source": [
    "plt.scatter(data[\"normalized_age\"], data[\"normalized_salary\"])"
   ]
  },
  {
   "cell_type": "code",
   "execution_count": 196,
   "metadata": {},
   "outputs": [],
   "source": [
    "data=np.array(data)\n",
    "def start_kmeans(k, df):\n",
    "    centroids ={}\n",
    "    for i in range(k):\n",
    "        centroids[i] = data[i]\n",
    "     \n",
    "    return centroids\n",
    "\n"
   ]
  },
  {
   "cell_type": "code",
   "execution_count": 202,
   "metadata": {},
   "outputs": [],
   "source": [
    "def assign_clusters(centroids, data,k):\n",
    "    clusters = {}\n",
    "    for i in range(k):\n",
    "         clusters[i]= []\n",
    "        \n",
    "    for row in data:\n",
    "        distances = [np.linalg.norm(row-centroids[centroid]) for centroid in centroids]\n",
    "        \n",
    "        cluster = [key for key, value in enumerate(distances) if value==min(distances)][0]\n",
    "        \n",
    "        clusters[cluster].append(row)\n",
    "        \n",
    "    return clusters\n"
   ]
  },
  {
   "cell_type": "code",
   "execution_count": 54,
   "metadata": {},
   "outputs": [],
   "source": [
    "def new_centroids (clusters):\n",
    "    for cluster in clusters:\n",
    "                centroids[cluster] = np.average(clusters[cluster],axis=0)\n",
    "            \n",
    "    return centroids\n",
    "\n"
   ]
  },
  {
   "cell_type": "code",
   "execution_count": 83,
   "metadata": {},
   "outputs": [],
   "source": [
    "def run_kmeans (k,df, max_iter):\n",
    "    centroids = start_kmeans(k, df)\n",
    "    clusters = assign_clusters(centroids, data,k)\n",
    "    all_centroids= {}\n",
    "    \n",
    "    for iteration in range(0, max_iter):\n",
    "        \n",
    "        centroids = new_centroids(clusters)\n",
    "        all_centroids[iteration]= centroids\n",
    "        clusters = assign_clusters(centroids, data,k)\n",
    "    \n",
    "        \n",
    "    return clusters\n",
    "\n",
    "\n",
    "\n"
   ]
  },
  {
   "cell_type": "code",
   "execution_count": 268,
   "metadata": {},
   "outputs": [],
   "source": [
    "class Kmeans ():\n",
    "    \n",
    "    def __init__(self, data, k, max_iter):\n",
    "            self.data = data\n",
    "            self.k = k\n",
    "            self.max_iter = max_iter\n",
    "            self.clusters = {}\n",
    "            \n",
    "    \n",
    "    def start_kmeans(self):\n",
    "        \n",
    "        self.centroids = {}\n",
    "        \n",
    "        \n",
    "        for i in range(self.k):\n",
    "            \n",
    "            self.centroids[i] = self.data[i] \n",
    "     \n",
    "        return self.centroids\n",
    "    \n",
    "    def assign_clusters(self, centroids):\n",
    "        \n",
    "        self.ykmeans=[]\n",
    "        \n",
    "        for i in range(self.k):\n",
    "             self.clusters[i]= []\n",
    "             \n",
    "        \n",
    "        for row in data:\n",
    "            distances = [np.linalg.norm(row-self.centroids[centroid]) for centroid in self.centroids]\n",
    "        \n",
    "            cluster = [key for key, value in enumerate(distances) if value==min(distances)][0]\n",
    "            \n",
    "            self.ykmeans.append(cluster)\n",
    "            self.clusters[cluster].append(row)\n",
    "        \n",
    "        return self.clusters, self.ykmeans\n",
    "  \n",
    "    def new_centroids (self, clusters):\n",
    "        self.centroids = {}\n",
    "        for cluster in self.clusters:\n",
    "                self.centroids[cluster] = np.average(self.clusters[cluster],axis=0)\n",
    "            \n",
    "        return self.centroids\n",
    "    \n",
    "    \n",
    "    def run_kmeans (self):\n",
    "    \n",
    "        self.centroids = self.start_kmeans()\n",
    "        self.clusters, self.ykmeans = self.assign_clusters(self.centroids)\n",
    "#         all_centroids= {}\n",
    "\n",
    "        for iteration in range(0, self.max_iter):\n",
    "\n",
    "            self.centroids = new_centroids(self.clusters)\n",
    "    #         all_centroids[iteration]= centroids\n",
    "            self.clusters, self.ykmeans = self.assign_clusters(self.centroids)\n",
    "\n",
    "        \n",
    "        return self.clusters, self.ykmeans\n",
    "\n",
    "    def plot (self):\n",
    "        \n",
    "        plt.scatter(self.data[:, 0], self.data[:, 1], c=self.ykmeans, s=50,)\n",
    "\n",
    "        \n",
    "        plt.scatter(np.array(list(self.centroids.values()))[:, 0], np.array(list(self.centroids.values()))[:, 1], c='black', s=200, alpha=0.5);\n",
    "        \n",
    "    \n",
    "    \n"
   ]
  },
  {
   "cell_type": "code",
   "execution_count": 271,
   "metadata": {},
   "outputs": [],
   "source": [
    "kmeans= Kmeans(data, 3, 100)\n",
    "\n",
    "# kmeans.run_kmeans()"
   ]
  },
  {
   "cell_type": "code",
   "execution_count": 270,
   "metadata": {},
   "outputs": [
    {
     "data": {
      "image/png": "[encoded data removed]",
      "text/plain": [
       "<Figure size 432x288 with 1 Axes>"
      ]
     },
     "metadata": {
      "needs_background": "light"
     },
     "output_type": "display_data"
    }
   ],
   "source": [
    "kmeans.plot()\n",
    "# "
   ]
  },
  {
   "cell_type": "code",
   "execution_count": null,
   "metadata": {},
   "outputs": [],
   "source": []
  }
 ],
 "metadata": {
  "kernelspec": {
   "display_name": "Python 3",
   "language": "python",
   "name": "python3"
  },
  "language_info": {
   "codemirror_mode": {
    "name": "ipython",
    "version": 3
   },
   "file_extension": ".py",
   "mimetype": "text/x-python",
   "name": "python",
   "nbconvert_exporter": "python",
   "pygments_lexer": "ipython3",
   "version": "3.7.4"
  }
 },
 "nbformat": 4,
 "nbformat_minor": 2
}
